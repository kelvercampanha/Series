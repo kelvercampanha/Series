{
 "cells": [
  {
   "cell_type": "markdown",
   "metadata": {},
   "source": [
    "# Ajuste de uma Série Temporal através de Redes Neurais"
   ]
  },
  {
   "cell_type": "code",
   "execution_count": 1,
   "metadata": {},
   "outputs": [
    {
     "name": "stderr",
     "output_type": "stream",
     "text": [
      "Using TensorFlow backend.\n"
     ]
    }
   ],
   "source": [
    "#Importe dos pacotes\n",
    "from keras.models import Sequential\n",
    "from keras.layers import Dense, LSTM, Dropout\n",
    "from sklearn.preprocessing import MinMaxScaler\n",
    "import numpy as np\n",
    "import matplotlib.pyplot as plt\n",
    "import pandas as pd"
   ]
  },
  {
   "cell_type": "code",
   "execution_count": 2,
   "metadata": {},
   "outputs": [],
   "source": [
    "#Leitura dos dados de treino\n",
    "base = pd.read_csv('petr4_treinamento_ex.csv')\n",
    "base = base.dropna()\n",
    "base_treinamento = base.iloc[:, 1:2].values"
   ]
  },
  {
   "cell_type": "code",
   "execution_count": 3,
   "metadata": {},
   "outputs": [],
   "source": [
    "#Normalizando os dados\n",
    "normalizador = MinMaxScaler(feature_range = (0, 1))\n",
    "base_treinamento_normalizada = normalizador.fit_transform(base_treinamento)"
   ]
  },
  {
   "cell_type": "code",
   "execution_count": 4,
   "metadata": {},
   "outputs": [],
   "source": [
    "#Construindo uma base utilizando como features os últimos 90 dias de observação\n",
    "previsores = []\n",
    "preco_real = []\n",
    "for i in range(90, 1242):\n",
    "    previsores.append(base_treinamento_normalizada[i-90:i, 0])\n",
    "    preco_real.append(base_treinamento_normalizada[i, 0])\n",
    "previsores, preco_real = np.array(previsores), np.array(preco_real)\n",
    "previsores = np.reshape(previsores, (previsores.shape[0], previsores.shape[1], 1))"
   ]
  },
  {
   "cell_type": "code",
   "execution_count": 5,
   "metadata": {},
   "outputs": [
    {
     "name": "stdout",
     "output_type": "stream",
     "text": [
      "Epoch 1/100\n",
      "1152/1152 [==============================] - 11s 10ms/step - loss: 0.0279 - mean_absolute_error: 0.1225\n",
      "Epoch 2/100\n",
      "1152/1152 [==============================] - 10s 8ms/step - loss: 0.0109 - mean_absolute_error: 0.0829\n",
      "Epoch 3/100\n",
      "1152/1152 [==============================] - 10s 8ms/step - loss: 0.0087 - mean_absolute_error: 0.0733\n",
      "Epoch 4/100\n",
      "1152/1152 [==============================] - 10s 9ms/step - loss: 0.0080 - mean_absolute_error: 0.0690\n",
      "Epoch 5/100\n",
      "1152/1152 [==============================] - 10s 8ms/step - loss: 0.0074 - mean_absolute_error: 0.0649\n",
      "Epoch 6/100\n",
      "1152/1152 [==============================] - 10s 9ms/step - loss: 0.0064 - mean_absolute_error: 0.0610\n",
      "Epoch 7/100\n",
      "1152/1152 [==============================] - 11s 9ms/step - loss: 0.0057 - mean_absolute_error: 0.0589\n",
      "Epoch 8/100\n",
      "1152/1152 [==============================] - 11s 10ms/step - loss: 0.0053 - mean_absolute_error: 0.0564\n",
      "Epoch 9/100\n",
      "1152/1152 [==============================] - 11s 9ms/step - loss: 0.0048 - mean_absolute_error: 0.0522\n",
      "Epoch 10/100\n",
      "1152/1152 [==============================] - 11s 10ms/step - loss: 0.0048 - mean_absolute_error: 0.0522\n",
      "Epoch 11/100\n",
      "1152/1152 [==============================] - 12s 10ms/step - loss: 0.0046 - mean_absolute_error: 0.0512\n",
      "Epoch 12/100\n",
      "1152/1152 [==============================] - 11s 10ms/step - loss: 0.0042 - mean_absolute_error: 0.0492\n",
      "Epoch 13/100\n",
      "1152/1152 [==============================] - 11s 10ms/step - loss: 0.0037 - mean_absolute_error: 0.0476\n",
      "Epoch 14/100\n",
      "1152/1152 [==============================] - 12s 10ms/step - loss: 0.0042 - mean_absolute_error: 0.0490\n",
      "Epoch 15/100\n",
      "1152/1152 [==============================] - 12s 10ms/step - loss: 0.0033 - mean_absolute_error: 0.0444\n",
      "Epoch 16/100\n",
      "1152/1152 [==============================] - 12s 10ms/step - loss: 0.0034 - mean_absolute_error: 0.0444\n",
      "Epoch 17/100\n",
      "1152/1152 [==============================] - 11s 10ms/step - loss: 0.0034 - mean_absolute_error: 0.0444\n",
      "Epoch 18/100\n",
      "1152/1152 [==============================] - 11s 10ms/step - loss: 0.0030 - mean_absolute_error: 0.0422\n",
      "Epoch 19/100\n",
      "1152/1152 [==============================] - 11s 10ms/step - loss: 0.0029 - mean_absolute_error: 0.0410\n",
      "Epoch 20/100\n",
      "1152/1152 [==============================] - 12s 10ms/step - loss: 0.0029 - mean_absolute_error: 0.0409\n",
      "Epoch 21/100\n",
      "1152/1152 [==============================] - 11s 10ms/step - loss: 0.0027 - mean_absolute_error: 0.0397\n",
      "Epoch 22/100\n",
      "1152/1152 [==============================] - 11s 10ms/step - loss: 0.0028 - mean_absolute_error: 0.0405\n",
      "Epoch 23/100\n",
      "1152/1152 [==============================] - 13s 11ms/step - loss: 0.0026 - mean_absolute_error: 0.0381\n",
      "Epoch 24/100\n",
      "1152/1152 [==============================] - 12s 10ms/step - loss: 0.0026 - mean_absolute_error: 0.0385\n",
      "Epoch 25/100\n",
      "1152/1152 [==============================] - 13s 12ms/step - loss: 0.0024 - mean_absolute_error: 0.0366\n",
      "Epoch 26/100\n",
      "1152/1152 [==============================] - 12s 10ms/step - loss: 0.0023 - mean_absolute_error: 0.0366\n",
      "Epoch 27/100\n",
      "1152/1152 [==============================] - 12s 10ms/step - loss: 0.0023 - mean_absolute_error: 0.0375\n",
      "Epoch 28/100\n",
      "1152/1152 [==============================] - 12s 10ms/step - loss: 0.0024 - mean_absolute_error: 0.0368\n",
      "Epoch 29/100\n",
      "1152/1152 [==============================] - 12s 10ms/step - loss: 0.0020 - mean_absolute_error: 0.0350\n",
      "Epoch 30/100\n",
      "1152/1152 [==============================] - 14s 12ms/step - loss: 0.0022 - mean_absolute_error: 0.0353\n",
      "Epoch 31/100\n",
      "1152/1152 [==============================] - 12s 11ms/step - loss: 0.0021 - mean_absolute_error: 0.0356\n",
      "Epoch 32/100\n",
      "1152/1152 [==============================] - 12s 11ms/step - loss: 0.0021 - mean_absolute_error: 0.0347\n",
      "Epoch 33/100\n",
      "1152/1152 [==============================] - 12s 10ms/step - loss: 0.0021 - mean_absolute_error: 0.0354\n",
      "Epoch 34/100\n",
      "1152/1152 [==============================] - 12s 10ms/step - loss: 0.0018 - mean_absolute_error: 0.0324\n",
      "Epoch 35/100\n",
      "1152/1152 [==============================] - 11s 9ms/step - loss: 0.0019 - mean_absolute_error: 0.0337\n",
      "Epoch 36/100\n",
      "1152/1152 [==============================] - 11s 9ms/step - loss: 0.0019 - mean_absolute_error: 0.0331\n",
      "Epoch 37/100\n",
      "1152/1152 [==============================] - 11s 9ms/step - loss: 0.0018 - mean_absolute_error: 0.0324\n",
      "Epoch 38/100\n",
      "1152/1152 [==============================] - 11s 10ms/step - loss: 0.0018 - mean_absolute_error: 0.0324\n",
      "Epoch 39/100\n",
      "1152/1152 [==============================] - 11s 9ms/step - loss: 0.0019 - mean_absolute_error: 0.0326\n",
      "Epoch 40/100\n",
      "1152/1152 [==============================] - 11s 10ms/step - loss: 0.0018 - mean_absolute_error: 0.0325\n",
      "Epoch 41/100\n",
      "1152/1152 [==============================] - 11s 9ms/step - loss: 0.0017 - mean_absolute_error: 0.0310\n",
      "Epoch 42/100\n",
      "1152/1152 [==============================] - 11s 10ms/step - loss: 0.0017 - mean_absolute_error: 0.0309\n",
      "Epoch 43/100\n",
      "1152/1152 [==============================] - 11s 10ms/step - loss: 0.0016 - mean_absolute_error: 0.0309\n",
      "Epoch 44/100\n",
      "1152/1152 [==============================] - 11s 9ms/step - loss: 0.0016 - mean_absolute_error: 0.0305\n",
      "Epoch 45/100\n",
      "1152/1152 [==============================] - 11s 9ms/step - loss: 0.0015 - mean_absolute_error: 0.0298\n",
      "Epoch 46/100\n",
      "1152/1152 [==============================] - 10s 9ms/step - loss: 0.0015 - mean_absolute_error: 0.0297\n",
      "Epoch 47/100\n",
      "1152/1152 [==============================] - 11s 9ms/step - loss: 0.0015 - mean_absolute_error: 0.0300\n",
      "Epoch 48/100\n",
      "1152/1152 [==============================] - 11s 9ms/step - loss: 0.0017 - mean_absolute_error: 0.0307\n",
      "Epoch 49/100\n",
      "1152/1152 [==============================] - 11s 9ms/step - loss: 0.0014 - mean_absolute_error: 0.0292\n",
      "Epoch 50/100\n",
      "1152/1152 [==============================] - 11s 9ms/step - loss: 0.0016 - mean_absolute_error: 0.0300\n",
      "Epoch 51/100\n",
      "1152/1152 [==============================] - 11s 10ms/step - loss: 0.0016 - mean_absolute_error: 0.0301\n",
      "Epoch 52/100\n",
      "1152/1152 [==============================] - 11s 9ms/step - loss: 0.0015 - mean_absolute_error: 0.0290\n",
      "Epoch 53/100\n",
      "1152/1152 [==============================] - 11s 10ms/step - loss: 0.0015 - mean_absolute_error: 0.0297\n",
      "Epoch 54/100\n",
      "1152/1152 [==============================] - 11s 10ms/step - loss: 0.0014 - mean_absolute_error: 0.0287\n",
      "Epoch 55/100\n",
      "1152/1152 [==============================] - 11s 10ms/step - loss: 0.0013 - mean_absolute_error: 0.0272\n",
      "Epoch 56/100\n",
      "1152/1152 [==============================] - 11s 10ms/step - loss: 0.0014 - mean_absolute_error: 0.0289\n",
      "Epoch 57/100\n",
      "1152/1152 [==============================] - 11s 9ms/step - loss: 0.0014 - mean_absolute_error: 0.0286\n",
      "Epoch 58/100\n",
      "1152/1152 [==============================] - 10s 9ms/step - loss: 0.0013 - mean_absolute_error: 0.0269\n",
      "Epoch 59/100\n",
      "1152/1152 [==============================] - 11s 9ms/step - loss: 0.0015 - mean_absolute_error: 0.0300\n",
      "Epoch 60/100\n",
      "1152/1152 [==============================] - 10s 9ms/step - loss: 0.0013 - mean_absolute_error: 0.0277\n",
      "Epoch 61/100\n",
      "1152/1152 [==============================] - 10s 9ms/step - loss: 0.0014 - mean_absolute_error: 0.0285\n",
      "Epoch 62/100\n",
      "1152/1152 [==============================] - 10s 9ms/step - loss: 0.0014 - mean_absolute_error: 0.0273\n",
      "Epoch 63/100\n",
      "1152/1152 [==============================] - 10s 9ms/step - loss: 0.0013 - mean_absolute_error: 0.0275\n",
      "Epoch 64/100\n",
      "1152/1152 [==============================] - 11s 9ms/step - loss: 0.0012 - mean_absolute_error: 0.0261\n",
      "Epoch 65/100\n",
      "1152/1152 [==============================] - 11s 9ms/step - loss: 0.0013 - mean_absolute_error: 0.0274\n",
      "Epoch 66/100\n",
      "1152/1152 [==============================] - 11s 10ms/step - loss: 0.0013 - mean_absolute_error: 0.0273\n",
      "Epoch 67/100\n",
      "1152/1152 [==============================] - 11s 10ms/step - loss: 0.0013 - mean_absolute_error: 0.0264\n",
      "Epoch 68/100\n",
      "1152/1152 [==============================] - 12s 10ms/step - loss: 0.0012 - mean_absolute_error: 0.0273\n",
      "Epoch 69/100\n",
      "1152/1152 [==============================] - 13s 11ms/step - loss: 0.0013 - mean_absolute_error: 0.0272\n",
      "Epoch 70/100\n",
      "1152/1152 [==============================] - 14s 12ms/step - loss: 0.0012 - mean_absolute_error: 0.0258\n",
      "Epoch 71/100\n",
      "1152/1152 [==============================] - 13s 11ms/step - loss: 0.0013 - mean_absolute_error: 0.0266\n",
      "Epoch 72/100\n",
      "1152/1152 [==============================] - 15s 13ms/step - loss: 0.0013 - mean_absolute_error: 0.0265\n",
      "Epoch 73/100\n",
      "1152/1152 [==============================] - 13s 11ms/step - loss: 0.0013 - mean_absolute_error: 0.0271\n",
      "Epoch 74/100\n",
      "1152/1152 [==============================] - 12s 10ms/step - loss: 0.0011 - mean_absolute_error: 0.0248\n",
      "Epoch 75/100\n",
      "1152/1152 [==============================] - 13s 11ms/step - loss: 0.0013 - mean_absolute_error: 0.0276\n",
      "Epoch 76/100\n",
      "1152/1152 [==============================] - 11s 10ms/step - loss: 0.0012 - mean_absolute_error: 0.0262\n",
      "Epoch 77/100\n",
      "1152/1152 [==============================] - 11s 10ms/step - loss: 0.0013 - mean_absolute_error: 0.0266\n",
      "Epoch 78/100\n",
      "1152/1152 [==============================] - 11s 10ms/step - loss: 0.0012 - mean_absolute_error: 0.0265\n",
      "Epoch 79/100\n",
      "1152/1152 [==============================] - 11s 10ms/step - loss: 0.0012 - mean_absolute_error: 0.0262\n",
      "Epoch 80/100\n",
      "1152/1152 [==============================] - 11s 9ms/step - loss: 0.0011 - mean_absolute_error: 0.0256\n",
      "Epoch 81/100\n",
      "1152/1152 [==============================] - 10s 9ms/step - loss: 0.0012 - mean_absolute_error: 0.0260\n",
      "Epoch 82/100\n",
      "1152/1152 [==============================] - 10s 9ms/step - loss: 0.0012 - mean_absolute_error: 0.0257\n",
      "Epoch 83/100\n",
      "1152/1152 [==============================] - 11s 9ms/step - loss: 0.0011 - mean_absolute_error: 0.0254\n",
      "Epoch 84/100\n",
      "1152/1152 [==============================] - 11s 9ms/step - loss: 0.0011 - mean_absolute_error: 0.0247\n",
      "Epoch 85/100\n",
      "1152/1152 [==============================] - 10s 9ms/step - loss: 0.0011 - mean_absolute_error: 0.0251\n",
      "Epoch 86/100\n",
      "1152/1152 [==============================] - 11s 9ms/step - loss: 0.0012 - mean_absolute_error: 0.0257\n",
      "Epoch 87/100\n",
      "1152/1152 [==============================] - 11s 9ms/step - loss: 0.0011 - mean_absolute_error: 0.0254\n",
      "Epoch 88/100\n",
      "1152/1152 [==============================] - 10s 9ms/step - loss: 0.0011 - mean_absolute_error: 0.0250\n",
      "Epoch 89/100\n",
      "1152/1152 [==============================] - 10s 9ms/step - loss: 0.0010 - mean_absolute_error: 0.0237\n",
      "Epoch 90/100\n",
      "1152/1152 [==============================] - 11s 9ms/step - loss: 0.0010 - mean_absolute_error: 0.0245\n",
      "Epoch 91/100\n",
      "1152/1152 [==============================] - 11s 9ms/step - loss: 0.0012 - mean_absolute_error: 0.0254\n",
      "Epoch 92/100\n",
      "1152/1152 [==============================] - 11s 9ms/step - loss: 0.0011 - mean_absolute_error: 0.0252\n",
      "Epoch 93/100\n",
      "1152/1152 [==============================] - 11s 9ms/step - loss: 0.0011 - mean_absolute_error: 0.0245\n",
      "Epoch 94/100\n",
      "1152/1152 [==============================] - 10s 9ms/step - loss: 0.0011 - mean_absolute_error: 0.0246\n",
      "Epoch 95/100\n",
      "1152/1152 [==============================] - 11s 9ms/step - loss: 0.0011 - mean_absolute_error: 0.0248\n",
      "Epoch 96/100\n",
      "1152/1152 [==============================] - 10s 9ms/step - loss: 0.0012 - mean_absolute_error: 0.0258\n",
      "Epoch 97/100\n",
      "1152/1152 [==============================] - 10s 9ms/step - loss: 9.5640e-04 - mean_absolute_error: 0.0233\n",
      "Epoch 98/100\n",
      "1152/1152 [==============================] - 10s 9ms/step - loss: 0.0011 - mean_absolute_error: 0.0248\n",
      "Epoch 99/100\n",
      "1152/1152 [==============================] - 11s 9ms/step - loss: 0.0011 - mean_absolute_error: 0.0239\n",
      "Epoch 100/100\n",
      "1152/1152 [==============================] - 11s 9ms/step - loss: 0.0010 - mean_absolute_error: 0.0240\n"
     ]
    },
    {
     "data": {
      "text/plain": [
       "<keras.callbacks.callbacks.History at 0x1fbafb4fcc8>"
      ]
     },
     "execution_count": 5,
     "metadata": {},
     "output_type": "execute_result"
    }
   ],
   "source": [
    "#Ajuste da Rede Neural\n",
    "\n",
    "regressor = Sequential()\n",
    "regressor.add(LSTM(units = 100, return_sequences = True, input_shape = (previsores.shape[1], 1)))\n",
    "regressor.add(Dropout(0.3))\n",
    "\n",
    "regressor.add(LSTM(units = 50, return_sequences = True))\n",
    "regressor.add(Dropout(0.2))\n",
    "\n",
    "regressor.add(LSTM(units = 50, return_sequences = True))\n",
    "regressor.add(Dropout(0.2))\n",
    "\n",
    "regressor.add(LSTM(units = 50))\n",
    "regressor.add(Dropout(0.2))\n",
    "\n",
    "regressor.add(Dense(units = 1, activation = 'linear'))\n",
    "\n",
    "regressor.compile(optimizer = 'rmsprop', loss = 'mean_squared_error', \n",
    "                  metrics = ['mean_absolute_error'])\n",
    "regressor.fit(previsores, preco_real, epochs = 100, batch_size = 32)"
   ]
  },
  {
   "cell_type": "code",
   "execution_count": 6,
   "metadata": {},
   "outputs": [],
   "source": [
    "#Leitura dos dados de teste\n",
    "base_teste = pd.read_csv('petr4_teste_ex.csv')\n",
    "preco_real_teste = base_teste.iloc[:, 1:2].values"
   ]
  },
  {
   "cell_type": "code",
   "execution_count": 7,
   "metadata": {},
   "outputs": [],
   "source": [
    "#Une os dados de treino e teste para montagem da base histórica e padroniza as variáveis\n",
    "base_completa = pd.concat((base['Open'], base_teste['Open']), axis = 0)\n",
    "entradas = base_completa[len(base_completa) - len(base_teste) - 90:].values\n",
    "entradas = entradas.reshape(-1,1)\n",
    "entradas = normalizador.transform(entradas)"
   ]
  },
  {
   "cell_type": "code",
   "execution_count": 8,
   "metadata": {},
   "outputs": [],
   "source": [
    "#Monta a base histórica para os dados de teste\n",
    "X_teste = []\n",
    "for i in range(90, 109):\n",
    "    X_teste.append(entradas[i-90:i, 0])\n",
    "X_teste = np.array(X_teste)\n",
    "X_teste = np.reshape(X_teste, (X_teste.shape[0], X_teste.shape[1], 1))\n",
    "\n",
    "#previsores = np.reshape(previsores, (previsores.shape[0], previsores.shape[1], 1))"
   ]
  },
  {
   "cell_type": "code",
   "execution_count": 9,
   "metadata": {},
   "outputs": [],
   "source": [
    "#Predita os dados de teste\n",
    "previsoes = regressor.predict(X_teste)\n",
    "previsoes = normalizador.inverse_transform(previsoes)"
   ]
  },
  {
   "cell_type": "code",
   "execution_count": 10,
   "metadata": {},
   "outputs": [
    {
     "name": "stdout",
     "output_type": "stream",
     "text": [
      "16.68396\n",
      "16.379473684210524\n"
     ]
    }
   ],
   "source": [
    "#Compara as médias entre o predito e o real\n",
    "print(previsoes.mean())\n",
    "print(preco_real_teste.mean())"
   ]
  },
  {
   "cell_type": "code",
   "execution_count": 11,
   "metadata": {},
   "outputs": [
    {
     "data": {
      "image/png": "[encoded data removed]",
      "text/plain": [
       "<Figure size 432x288 with 1 Axes>"
      ]
     },
     "metadata": {
      "needs_background": "light"
     },
     "output_type": "display_data"
    }
   ],
   "source": [
    "#Gráfico compartivo entre o real e o predito\n",
    "plt.plot(preco_real_teste, color = 'red', label = 'Preço real')\n",
    "plt.plot(previsoes, color = 'blue', label = 'Previsões')\n",
    "plt.title('Previsão preço das ações')\n",
    "plt.xlabel('Tempo')\n",
    "plt.ylabel('Valor')\n",
    "plt.legend()\n",
    "plt.show()"
   ]
  },
  {
   "cell_type": "code",
   "execution_count": null,
   "metadata": {},
   "outputs": [],
   "source": []
  }
 ],
 "metadata": {
  "kernelspec": {
   "display_name": "Python 3",
   "language": "python",
   "name": "python3"
  },
  "language_info": {
   "codemirror_mode": {
    "name": "ipython",
    "version": 3
   },
   "file_extension": ".py",
   "mimetype": "text/x-python",
   "name": "python",
   "nbconvert_exporter": "python",
   "pygments_lexer": "ipython3",
   "version": "3.7.4"
  }
 },
 "nbformat": 4,
 "nbformat_minor": 4
}
